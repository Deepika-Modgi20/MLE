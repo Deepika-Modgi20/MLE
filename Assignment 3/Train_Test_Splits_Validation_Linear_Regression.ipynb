{
  "cells": [
    {
      "cell_type": "markdown",
      "metadata": {
        "run_control": {
          "marked": true
        },
        "id": "OBJqdEyDOHj8"
      },
      "source": [
        "# Train Test Splits, Cross Validation, and Linear Regression\n",
        "\n",
        "![Lregressions.png](Assets/LinearRegr.png)"
      ]
    },
    {
      "cell_type": "markdown",
      "metadata": {
        "id": "MqAEgg6hOHj-"
      },
      "source": [
        "# Learning Objectives\n",
        "\n",
        "- Explain the difference between over-fitting and under-fitting a model\n",
        "- Describe Bias-variance tradeoffs\n",
        "- Find the optimal training and test data set splits, cross-validation, and model complexity versus error\n",
        "- Apply a linear regression model for supervised learning\n",
        "- Apply Intel® Extension for Scikit-learn* to leverage underlying compute capabilities of hardware\n",
        "\n",
        "# scikit-learn*\n",
        "\n",
        "Frameworks provide structure that Data Scientists use to build code. Frameworks are more than just libraries, because in addition to callable code, frameworks influence how code is written.\n",
        "\n",
        "A main virtue of using an optimized framework is that code runs faster. Code that runs faster is just generally more convenient but when we begin looking at applied data science and AI models, we can see more material benefits. Here you will see how optimization, particularly hyperparameter optimization can benefit more than just speed.\n",
        "\n",
        "These exercises will demonstrate how to apply **the Intel® Extension for Scikit-learn*,** a seamless way to speed up your Scikit-learn application. The acceleration is achieved through the use of the Intel® oneAPI Data Analytics Library (oneDAL). Patching is the term used to extend scikit-learn with Intel optimizations and makes it a well-suited machine learning framework for dealing with real-life problems.\n",
        "\n",
        "To get optimized versions of many Scikit-learn algorithms using a patch() approach consisting of adding these lines of code prior to importing sklearn:\n",
        "\n",
        "- **from sklearnex import patch_sklearn**\n",
        "- **patch_sklearn()**\n",
        "\n",
        "## This exercise relies on installation of  Intel® Extension for Scikit-learn*\n",
        "\n",
        "If you have not already done so, follow the instructions from Week 1 for instructions"
      ]
    },
    {
      "cell_type": "markdown",
      "metadata": {
        "run_control": {
          "marked": true
        },
        "id": "eFhYPgbSOHj_"
      },
      "source": [
        "## Introduction\n",
        "\n",
        "We will be working with a data set based on [housing prices in Ames, Iowa](https://www.kaggle.com/c/house-prices-advanced-regression-techniques). It was compiled for educational use to be a modernized and expanded alternative to the well-known Boston Housing dataset. This version of the data set has had some missing values filled for convenience.\n",
        "\n",
        "There are an extensive number of features, so they've been described in the table below.\n",
        "\n",
        "### Predictor\n",
        "\n",
        "* SalePrice: The property's sale price in dollars.\n",
        "\n",
        "\n",
        "### Features\n",
        "\n",
        "<table>\n",
        "  <tbody>    \n",
        "    <tr valign=\"top\">\n",
        "      <td valign=\"top\">\n",
        "        <ul>\n",
        "          <li>MoSold: Month Sold</li>\n",
        "          <li>YrSold: Year Sold</li><br>\n",
        "          \n",
        "          <li>SaleType: Type of sale</li>\n",
        "          <li>SaleCondition: Condition of sale</li><br>\n",
        "\n",
        "          <li>MSSubClass: The building class</li>\n",
        "          <li>MSZoning: The general zoning classification</li><br>\n",
        "\n",
        "          <li>Neighborhood: Physical locations within Ames city limits</li>\n",
        "          <li>Street: Type of road access</li>\n",
        "          <li>Alley: Type of alley access</li><br>\n",
        "\n",
        "          <li>LotArea: Lot size in square feet</li>\n",
        "          <li>LotConfig: Lot configuration</li>\n",
        "          <li>LotFrontage: Linear feet of street connected to property</li>\n",
        "          <li>LotShape: General shape of property</li><br>\n",
        "\n",
        "          <li>LandSlope: Slope of property</li>\n",
        "          <li>LandContour: Flatness of the property</li><br>\n",
        "\n",
        "          <li>YearBuilt: Original construction date</li>\n",
        "          <li>YearRemodAdd: Remodel date</li>\n",
        "          <li>OverallQual: Overall material and finish quality</li>\n",
        "          <li>OverallCond: Overall condition rating</li><br>\n",
        "\n",
        "          <li>Utilities: Type of utilities available</li>\n",
        "          <li>Foundation: Type of foundation</li>\n",
        "          <li>Functional: Home functionality rating</li><br>\n",
        "\n",
        "          <li>BldgType: Type of dwelling</li>\n",
        "          <li>HouseStyle: Style of dwelling</li><br>\n",
        "          \n",
        "          <li>1stFlrSF: First Floor square feet</li>\n",
        "          <li>2ndFlrSF: Second floor square feet</li>\n",
        "          <li>LowQualFinSF: Low quality finished square feet (all floors)</li>\n",
        "          <li>GrLivArea: Above grade (ground) living area square feet</li>\n",
        "          <li>TotRmsAbvGrd: Total rooms above grade (does not include bathrooms)</li><br>\n",
        "\n",
        "          <li>Condition1: Proximity to main road or railroad</li>\n",
        "          <li>Condition2: Proximity to main road or railroad (if a second is present)</li><br>\n",
        "          \n",
        "          <li>RoofStyle: Type of roof</li>\n",
        "          <li>RoofMatl: Roof material</li><br>\n",
        "\n",
        "          <li>ExterQual: Exterior material quality</li>\n",
        "          <li>ExterCond: Present condition of the material on the exterior</li>\n",
        "          <li>Exterior1st: Exterior covering on house</li>\n",
        "          <li>Exterior2nd: Exterior covering on house (if more than one material)</li><br><br>\n",
        "          \n",
        "        </ul>\n",
        "      </td>\n",
        "      \n",
        "      <td valign=\"top\">\n",
        "        <ul>\n",
        "          <li>MasVnrType: Masonry veneer type</li>\n",
        "          <li>MasVnrArea: Masonry veneer area in square feet</li><br>\n",
        "          \n",
        "          <li>WoodDeckSF: Wood deck area in square feet</li>\n",
        "          <li>OpenPorchSF: Open porch area in square feet</li>\n",
        "          <li>EnclosedPorch: Enclosed porch area in square feet</li>\n",
        "          <li>3SsnPorch: Three season porch area in square feet</li>\n",
        "          <li>ScreenPorch: Screen porch area in square feet</li><br>\n",
        "\n",
        "          <li>PoolArea: Pool area in square feet</li>\n",
        "          <li>PoolQC: Pool quality</li>\n",
        "          <li>Fence: Fence quality</li>\n",
        "          <li>PavedDrive: Paved driveway</li><br>\n",
        "\n",
        "          <li>GarageType: Garage location</li>\n",
        "          <li>GarageYrBlt: Year garage was built</li>\n",
        "          <li>GarageFinish: Interior finish of the garage</li>\n",
        "          <li>GarageCars: Size of garage in car capacity</li>\n",
        "          <li>GarageArea: Size of garage in square feet</li>\n",
        "          <li>GarageQual: Garage quality</li>\n",
        "          <li>GarageCond: Garage condition</li><br>\n",
        "\n",
        "          <li>Heating: Type of heating</li>\n",
        "          <li>HeatingQC: Heating quality and condition</li>\n",
        "          <li>CentralAir: Central air conditioning</li>\n",
        "          <li>Electrical: Electrical system</li><br>\n",
        "          \n",
        "          <li>FullBath: Full bathrooms above grade</li>\n",
        "          <li>HalfBath: Half baths above grade</li><br>\n",
        "          \n",
        "          <li>BedroomAbvGr: Number of bedrooms above basement level</li><br>\n",
        "          \n",
        "          <li>KitchenAbvGr: Number of kitchens</li>\n",
        "          <li>KitchenQual: Kitchen quality</li><br>\n",
        "          \n",
        "          <li>Fireplaces: Number of fireplaces</li>\n",
        "          <li>FireplaceQu: Fireplace quality</li><br>\n",
        "          \n",
        "          <li>MiscFeature: Miscellaneous feature not covered in other categories</li>\n",
        "          <li>MiscVal: Value of miscellaneous feature</li><br>\n",
        "          \n",
        "          <li>BsmtQual: Height of the basement</li>\n",
        "          <li>BsmtCond: General condition of the basement</li>\n",
        "          <li>BsmtExposure: Walkout or garden level basement walls</li>\n",
        "          <li>BsmtFinType1: Quality of basement finished area</li>\n",
        "          <li>BsmtFinSF1: Type 1 finished square feet</li>\n",
        "          <li>BsmtFinType2: Quality of second finished area (if present)</li>\n",
        "          <li>BsmtFinSF2: Type 2 finished square feet</li>\n",
        "          <li>BsmtUnfSF: Unfinished square feet of basement area</li>\n",
        "          <li>BsmtFullBath: Basement full bathrooms</li>\n",
        "          <li>BsmtHalfBath: Basement half bathrooms</li>\n",
        "          <li>TotalBsmtSF: Total square feet of basement area</li>\n",
        "        </ul>\n",
        "      </td>\n",
        "    </tr>\n",
        "    \n",
        "  </tbody>\n",
        "</table>\n"
      ]
    },
    {
      "cell_type": "code",
      "source": [
        "pip install scikit-learn-intelex"
      ],
      "metadata": {
        "colab": {
          "base_uri": "https://localhost:8080/"
        },
        "id": "5wO6e8-7OYh4",
        "outputId": "395a91e2-61b8-47c3-d95f-2180ebad30b1"
      },
      "execution_count": 2,
      "outputs": [
        {
          "output_type": "stream",
          "name": "stdout",
          "text": [
            "Collecting scikit-learn-intelex\n",
            "  Downloading scikit_learn_intelex-2025.5.0-py311-none-manylinux_2_28_x86_64.whl.metadata (11 kB)\n",
            "Collecting daal==2025.5.0 (from scikit-learn-intelex)\n",
            "  Downloading daal-2025.5.0-py2.py3-none-manylinux_2_28_x86_64.whl.metadata (1.1 kB)\n",
            "Requirement already satisfied: numpy>=1.19 in /usr/local/lib/python3.11/dist-packages (from scikit-learn-intelex) (2.0.2)\n",
            "Requirement already satisfied: scikit-learn>=0.22 in /usr/local/lib/python3.11/dist-packages (from scikit-learn-intelex) (1.6.1)\n",
            "Requirement already satisfied: tbb==2022.* in /usr/local/lib/python3.11/dist-packages (from daal==2025.5.0->scikit-learn-intelex) (2022.1.0)\n",
            "Requirement already satisfied: tcmlib==1.* in /usr/local/lib/python3.11/dist-packages (from tbb==2022.*->daal==2025.5.0->scikit-learn-intelex) (1.3.0)\n",
            "Requirement already satisfied: scipy>=1.6.0 in /usr/local/lib/python3.11/dist-packages (from scikit-learn>=0.22->scikit-learn-intelex) (1.15.2)\n",
            "Requirement already satisfied: joblib>=1.2.0 in /usr/local/lib/python3.11/dist-packages (from scikit-learn>=0.22->scikit-learn-intelex) (1.4.2)\n",
            "Requirement already satisfied: threadpoolctl>=3.1.0 in /usr/local/lib/python3.11/dist-packages (from scikit-learn>=0.22->scikit-learn-intelex) (3.6.0)\n",
            "Downloading scikit_learn_intelex-2025.5.0-py311-none-manylinux_2_28_x86_64.whl (4.3 MB)\n",
            "\u001b[2K   \u001b[90m━━━━━━━━━━━━━━━━━━━━━━━━━━━━━━━━━━━━━━━━\u001b[0m \u001b[32m4.3/4.3 MB\u001b[0m \u001b[31m34.9 MB/s\u001b[0m eta \u001b[36m0:00:00\u001b[0m\n",
            "\u001b[?25hDownloading daal-2025.5.0-py2.py3-none-manylinux_2_28_x86_64.whl (110.3 MB)\n",
            "\u001b[2K   \u001b[90m━━━━━━━━━━━━━━━━━━━━━━━━━━━━━━━━━━━━━━━━\u001b[0m \u001b[32m110.3/110.3 MB\u001b[0m \u001b[31m7.7 MB/s\u001b[0m eta \u001b[36m0:00:00\u001b[0m\n",
            "\u001b[?25hInstalling collected packages: daal, scikit-learn-intelex\n",
            "Successfully installed daal-2025.5.0 scikit-learn-intelex-2025.5.0\n"
          ]
        }
      ]
    },
    {
      "cell_type": "code",
      "execution_count": 3,
      "metadata": {
        "ExecuteTime": {
          "end_time": "2021-09-24T17:11:51.157758Z",
          "start_time": "2021-09-24T17:11:51.140036Z"
        },
        "run_control": {
          "marked": true
        },
        "colab": {
          "base_uri": "https://localhost:8080/"
        },
        "id": "HnuxtI2aOHkA",
        "outputId": "b9a3448d-2153-4896-fa4f-acba049a169e"
      },
      "outputs": [
        {
          "output_type": "stream",
          "name": "stderr",
          "text": [
            "Extension for Scikit-learn* enabled (https://github.com/uxlfoundation/scikit-learn-intelex)\n"
          ]
        }
      ],
      "source": [
        "from __future__ import print_function\n",
        "import os\n",
        "data_path = ['../data']\n",
        "\n",
        "from sklearnex import patch_sklearn\n",
        "patch_sklearn()\n",
        "\n",
        "from sklearn.preprocessing import OneHotEncoder, LabelEncoder\n",
        "from sklearn.model_selection import train_test_split\n",
        "from sklearn.linear_model import LinearRegression\n",
        "from sklearn.metrics import mean_squared_error\n",
        "from sklearn.preprocessing import StandardScaler, MinMaxScaler, MaxAbsScaler"
      ]
    },
    {
      "cell_type": "markdown",
      "metadata": {
        "run_control": {
          "marked": true
        },
        "id": "YmAwI5TTOHkA"
      },
      "source": [
        "## Question 1\n",
        "\n",
        "* Import the data using Pandas and examine the shape. There are 79 feature columns plus the predictor, the sale price (`SalePrice`).\n",
        "* There are three different types: integers (`int64`), floats (`float64`), and strings (`object`, categoricals). Examine how many there are of each data type."
      ]
    },
    {
      "cell_type": "code",
      "execution_count": 8,
      "metadata": {
        "ExecuteTime": {
          "end_time": "2021-09-24T17:11:51.173713Z",
          "start_time": "2021-09-24T17:11:51.159715Z"
        },
        "run_control": {
          "marked": true
        },
        "colab": {
          "base_uri": "https://localhost:8080/"
        },
        "id": "IH81Q8juOHkB",
        "outputId": "378af02d-2618-4175-c28e-601dcf0c694e"
      },
      "outputs": [
        {
          "output_type": "stream",
          "name": "stdout",
          "text": [
            "(2930, 82)\n",
            "(0, 82)\n"
          ]
        }
      ],
      "source": [
        "import pandas as pd\n",
        "import numpy as np\n",
        "\n",
        "# Import the data using the file path\n",
        "df=pd.read_csv(\"/content/AmesHousing.csv\")\n",
        "#filepath = os.sep.join(data_path + ['Ames_Housing_Sales.csv'])\n",
        "#data1 = pd.read_csv(filepath, sep=',')\n",
        "\n",
        "#print(data1.shape)\n",
        "print(df.shape)\n",
        "#data = data1.dropna()\n",
        "df=df.dropna()\n",
        "#print(data.shape)\n",
        "print(df.shape)\n"
      ]
    },
    {
      "cell_type": "code",
      "execution_count": 9,
      "metadata": {
        "ExecuteTime": {
          "end_time": "2021-09-24T17:11:51.188712Z",
          "start_time": "2021-09-24T17:11:51.175715Z"
        },
        "run_control": {
          "marked": true
        },
        "colab": {
          "base_uri": "https://localhost:8080/",
          "height": 178
        },
        "id": "EBI_wNRnOHkB",
        "outputId": "ffa1faf2-8c0c-4e93-a9a4-afc8b4377681"
      },
      "outputs": [
        {
          "output_type": "execute_result",
          "data": {
            "text/plain": [
              "object     43\n",
              "int64      28\n",
              "float64    11\n",
              "Name: count, dtype: int64"
            ],
            "text/html": [
              "<div>\n",
              "<style scoped>\n",
              "    .dataframe tbody tr th:only-of-type {\n",
              "        vertical-align: middle;\n",
              "    }\n",
              "\n",
              "    .dataframe tbody tr th {\n",
              "        vertical-align: top;\n",
              "    }\n",
              "\n",
              "    .dataframe thead th {\n",
              "        text-align: right;\n",
              "    }\n",
              "</style>\n",
              "<table border=\"1\" class=\"dataframe\">\n",
              "  <thead>\n",
              "    <tr style=\"text-align: right;\">\n",
              "      <th></th>\n",
              "      <th>count</th>\n",
              "    </tr>\n",
              "  </thead>\n",
              "  <tbody>\n",
              "    <tr>\n",
              "      <th>object</th>\n",
              "      <td>43</td>\n",
              "    </tr>\n",
              "    <tr>\n",
              "      <th>int64</th>\n",
              "      <td>28</td>\n",
              "    </tr>\n",
              "    <tr>\n",
              "      <th>float64</th>\n",
              "      <td>11</td>\n",
              "    </tr>\n",
              "  </tbody>\n",
              "</table>\n",
              "</div><br><label><b>dtype:</b> int64</label>"
            ]
          },
          "metadata": {},
          "execution_count": 9
        }
      ],
      "source": [
        "#Display value counts of data set\n",
        "df.dtypes.value_counts()\n"
      ]
    },
    {
      "cell_type": "markdown",
      "metadata": {
        "run_control": {
          "marked": true
        },
        "id": "7wG8Yf4gOHkB"
      },
      "source": [
        "## Question 2\n",
        "\n",
        "As discussed in the lecture, a significant challenge, particularly when dealing with data that have many columns, is ensuring each column gets encoded correctly.\n",
        "\n",
        "This is particularly true with data columns that are ordered categoricals (ordinals) vs unordered categoricals. Unordered categoricals should be one-hot encoded, however this can significantly increase the number of features and creates features that are highly correlated with each other.\n",
        "\n",
        "Determine how many total features would be present, relative to what currently exists, if all string (object) features are one-hot encoded. Recall that the total number of one-hot encoded columns is `n-1`, where `n` is the number of categories."
      ]
    },
    {
      "cell_type": "code",
      "execution_count": 10,
      "metadata": {
        "ExecuteTime": {
          "end_time": "2021-09-24T17:11:51.203914Z",
          "start_time": "2021-09-24T17:11:51.190714Z"
        },
        "run_control": {
          "marked": true
        },
        "colab": {
          "base_uri": "https://localhost:8080/",
          "height": 116
        },
        "id": "ZqJPqyqbOHkC",
        "outputId": "4ad815a6-ce83-4a55-e02c-bfd79680e1ad"
      },
      "outputs": [
        {
          "output_type": "execute_result",
          "data": {
            "text/plain": [
              "Empty DataFrame\n",
              "Columns: [MS Zoning, Street, Alley, Lot Shape, Land Contour, Utilities, Lot Config, Land Slope, Neighborhood, Condition 1, Condition 2, Bldg Type, House Style, Roof Style, Roof Matl, Exterior 1st, Exterior 2nd, Mas Vnr Type, Exter Qual, Exter Cond, Foundation, Bsmt Qual, Bsmt Cond, Bsmt Exposure, BsmtFin Type 1, BsmtFin Type 2, Heating, Heating QC, Central Air, Electrical, Kitchen Qual, Functional, Fireplace Qu, Garage Type, Garage Finish, Garage Qual, Garage Cond, Paved Drive, Pool QC, Fence, Misc Feature, Sale Type, Sale Condition]\n",
              "Index: []\n",
              "\n",
              "[0 rows x 43 columns]"
            ],
            "text/html": [
              "\n",
              "  <div id=\"df-0592a5d2-12e4-4821-ac21-23559281f8e9\" class=\"colab-df-container\">\n",
              "    <div>\n",
              "<style scoped>\n",
              "    .dataframe tbody tr th:only-of-type {\n",
              "        vertical-align: middle;\n",
              "    }\n",
              "\n",
              "    .dataframe tbody tr th {\n",
              "        vertical-align: top;\n",
              "    }\n",
              "\n",
              "    .dataframe thead th {\n",
              "        text-align: right;\n",
              "    }\n",
              "</style>\n",
              "<table border=\"1\" class=\"dataframe\">\n",
              "  <thead>\n",
              "    <tr style=\"text-align: right;\">\n",
              "      <th></th>\n",
              "      <th>MS Zoning</th>\n",
              "      <th>Street</th>\n",
              "      <th>Alley</th>\n",
              "      <th>Lot Shape</th>\n",
              "      <th>Land Contour</th>\n",
              "      <th>Utilities</th>\n",
              "      <th>Lot Config</th>\n",
              "      <th>Land Slope</th>\n",
              "      <th>Neighborhood</th>\n",
              "      <th>Condition 1</th>\n",
              "      <th>...</th>\n",
              "      <th>Garage Type</th>\n",
              "      <th>Garage Finish</th>\n",
              "      <th>Garage Qual</th>\n",
              "      <th>Garage Cond</th>\n",
              "      <th>Paved Drive</th>\n",
              "      <th>Pool QC</th>\n",
              "      <th>Fence</th>\n",
              "      <th>Misc Feature</th>\n",
              "      <th>Sale Type</th>\n",
              "      <th>Sale Condition</th>\n",
              "    </tr>\n",
              "  </thead>\n",
              "  <tbody>\n",
              "  </tbody>\n",
              "</table>\n",
              "<p>0 rows × 43 columns</p>\n",
              "</div>\n",
              "    <div class=\"colab-df-buttons\">\n",
              "\n",
              "  <div class=\"colab-df-container\">\n",
              "    <button class=\"colab-df-convert\" onclick=\"convertToInteractive('df-0592a5d2-12e4-4821-ac21-23559281f8e9')\"\n",
              "            title=\"Convert this dataframe to an interactive table.\"\n",
              "            style=\"display:none;\">\n",
              "\n",
              "  <svg xmlns=\"http://www.w3.org/2000/svg\" height=\"24px\" viewBox=\"0 -960 960 960\">\n",
              "    <path d=\"M120-120v-720h720v720H120Zm60-500h600v-160H180v160Zm220 220h160v-160H400v160Zm0 220h160v-160H400v160ZM180-400h160v-160H180v160Zm440 0h160v-160H620v160ZM180-180h160v-160H180v160Zm440 0h160v-160H620v160Z\"/>\n",
              "  </svg>\n",
              "    </button>\n",
              "\n",
              "  <style>\n",
              "    .colab-df-container {\n",
              "      display:flex;\n",
              "      gap: 12px;\n",
              "    }\n",
              "\n",
              "    .colab-df-convert {\n",
              "      background-color: #E8F0FE;\n",
              "      border: none;\n",
              "      border-radius: 50%;\n",
              "      cursor: pointer;\n",
              "      display: none;\n",
              "      fill: #1967D2;\n",
              "      height: 32px;\n",
              "      padding: 0 0 0 0;\n",
              "      width: 32px;\n",
              "    }\n",
              "\n",
              "    .colab-df-convert:hover {\n",
              "      background-color: #E2EBFA;\n",
              "      box-shadow: 0px 1px 2px rgba(60, 64, 67, 0.3), 0px 1px 3px 1px rgba(60, 64, 67, 0.15);\n",
              "      fill: #174EA6;\n",
              "    }\n",
              "\n",
              "    .colab-df-buttons div {\n",
              "      margin-bottom: 4px;\n",
              "    }\n",
              "\n",
              "    [theme=dark] .colab-df-convert {\n",
              "      background-color: #3B4455;\n",
              "      fill: #D2E3FC;\n",
              "    }\n",
              "\n",
              "    [theme=dark] .colab-df-convert:hover {\n",
              "      background-color: #434B5C;\n",
              "      box-shadow: 0px 1px 3px 1px rgba(0, 0, 0, 0.15);\n",
              "      filter: drop-shadow(0px 1px 2px rgba(0, 0, 0, 0.3));\n",
              "      fill: #FFFFFF;\n",
              "    }\n",
              "  </style>\n",
              "\n",
              "    <script>\n",
              "      const buttonEl =\n",
              "        document.querySelector('#df-0592a5d2-12e4-4821-ac21-23559281f8e9 button.colab-df-convert');\n",
              "      buttonEl.style.display =\n",
              "        google.colab.kernel.accessAllowed ? 'block' : 'none';\n",
              "\n",
              "      async function convertToInteractive(key) {\n",
              "        const element = document.querySelector('#df-0592a5d2-12e4-4821-ac21-23559281f8e9');\n",
              "        const dataTable =\n",
              "          await google.colab.kernel.invokeFunction('convertToInteractive',\n",
              "                                                    [key], {});\n",
              "        if (!dataTable) return;\n",
              "\n",
              "        const docLinkHtml = 'Like what you see? Visit the ' +\n",
              "          '<a target=\"_blank\" href=https://colab.research.google.com/notebooks/data_table.ipynb>data table notebook</a>'\n",
              "          + ' to learn more about interactive tables.';\n",
              "        element.innerHTML = '';\n",
              "        dataTable['output_type'] = 'display_data';\n",
              "        await google.colab.output.renderOutput(dataTable, element);\n",
              "        const docLink = document.createElement('div');\n",
              "        docLink.innerHTML = docLinkHtml;\n",
              "        element.appendChild(docLink);\n",
              "      }\n",
              "    </script>\n",
              "  </div>\n",
              "\n",
              "\n",
              "    </div>\n",
              "  </div>\n"
            ],
            "application/vnd.google.colaboratory.intrinsic+json": {
              "type": "dataframe",
              "variable_name": "df_obj"
            }
          },
          "metadata": {},
          "execution_count": 10
        }
      ],
      "source": [
        "# Select the object (string) columns\n",
        "df_obj=df.select_dtypes(include='object')\n",
        "df_obj.head()"
      ]
    },
    {
      "cell_type": "code",
      "execution_count": 22,
      "metadata": {
        "ExecuteTime": {
          "end_time": "2021-09-24T17:11:51.219909Z",
          "start_time": "2021-09-24T17:11:51.205714Z"
        },
        "run_control": {
          "marked": true
        },
        "colab": {
          "base_uri": "https://localhost:8080/"
        },
        "id": "KPgOnK93OHkC",
        "outputId": "bfcb8fb5-c379-48af-ab17-c95674fa8bc8"
      },
      "outputs": [
        {
          "output_type": "stream",
          "name": "stdout",
          "text": [
            "Total extra columns created by one-hot encoding: 0\n",
            "Total features after one-hot encoding: 43\n"
          ]
        }
      ],
      "source": [
        "# Determine how many extra columns would be created\n",
        "# No need to encode if there is only one value\n",
        "\n",
        "# Number of one-hot columns is one less than the number of categories\n",
        "\n",
        "# This is 215 columns, assuming the original ones are dropped.\n",
        "# This is quite a few extra columns!\n",
        "unique_categories = df_obj.nunique()\n",
        "\n",
        "columns_to_encode = unique_categories[unique_categories > 1]\n",
        "extra_columns = columns_to_encode - 1\n",
        "total_extra_columns = extra_columns.sum()\n",
        "total_features_after_encoding = df_obj.shape[1] + total_extra_columns\n",
        "print(f\"Total extra columns created by one-hot encoding: {total_extra_columns}\")\n",
        "print(f\"Total features after one-hot encoding: {total_features_after_encoding}\")\n"
      ]
    },
    {
      "cell_type": "markdown",
      "metadata": {
        "run_control": {
          "marked": true
        },
        "id": "zd7POJN_OHkC"
      },
      "source": [
        "## Question 3\n",
        "\n",
        "Let's create a new data set where all of the above categorical features will be one-hot encoded. We can fit this data and see how it affects the results.\n",
        "\n",
        "* Used the dataframe `.copy()` method to create a completely separate copy of the dataframe for one-hot encoding\n",
        "* On this new dataframe, one-hot encode each of the appropriate columns and add it back to the dataframe. Be sure to drop the original column.\n",
        "* For the data that are not one-hot encoded, drop the columns that are string categoricals.\n",
        "\n",
        "For the first step, numerically encoding the string categoricals, either Scikit-learn;s `LabelEncoder` or `DictVectorizer` can be used. However, the former is probably easier since it doesn't require specifying a numerical value for each category, and we are going to one-hot encode all of the numerical values anyway. (Can you think of a time when `DictVectorizer` might be preferred?)"
      ]
    },
    {
      "cell_type": "code",
      "execution_count": 27,
      "metadata": {
        "ExecuteTime": {
          "end_time": "2021-09-24T17:11:51.234909Z",
          "start_time": "2021-09-24T17:11:51.221715Z"
        },
        "run_control": {
          "marked": true
        },
        "colab": {
          "base_uri": "https://localhost:8080/"
        },
        "id": "KgicX84SOHkC",
        "outputId": "a8dcda51-4039-4921-c822-b9987936766e"
      },
      "outputs": [
        {
          "output_type": "stream",
          "name": "stdout",
          "text": [
            "New Dataset Shape After Encoding: (0, 82)\n",
            "Empty DataFrame\n",
            "Columns: [Order, PID, MS SubClass, MS Zoning, Lot Frontage, Lot Area, Street, Alley, Lot Shape, Land Contour, Utilities, Lot Config, Land Slope, Neighborhood, Condition 1, Condition 2, Bldg Type, House Style, Overall Qual, Overall Cond, Year Built, Year Remod/Add, Roof Style, Roof Matl, Exterior 1st, Exterior 2nd, Mas Vnr Type, Mas Vnr Area, Exter Qual, Exter Cond, Foundation, Bsmt Qual, Bsmt Cond, Bsmt Exposure, BsmtFin Type 1, BsmtFin SF 1, BsmtFin Type 2, BsmtFin SF 2, Bsmt Unf SF, Total Bsmt SF, Heating, Heating QC, Central Air, Electrical, 1st Flr SF, 2nd Flr SF, Low Qual Fin SF, Gr Liv Area, Bsmt Full Bath, Bsmt Half Bath, Full Bath, Half Bath, Bedroom AbvGr, Kitchen AbvGr, Kitchen Qual, TotRms AbvGrd, Functional, Fireplaces, Fireplace Qu, Garage Type, Garage Yr Blt, Garage Finish, Garage Cars, Garage Area, Garage Qual, Garage Cond, Paved Drive, Wood Deck SF, Open Porch SF, Enclosed Porch, 3Ssn Porch, Screen Porch, Pool Area, Pool QC, Fence, Misc Feature, Misc Val, Mo Sold, Yr Sold, Sale Type, Sale Condition, SalePrice]\n",
            "Index: []\n",
            "\n",
            "[0 rows x 82 columns]\n"
          ]
        }
      ],
      "source": [
        "import pandas as pd\n",
        "from sklearn.preprocessing import OneHotEncoder, LabelEncoder\n",
        "\n",
        "data_ohc = df.copy()\n",
        "\n",
        "object_columns = data_ohc.select_dtypes(include=['object']).columns\n",
        "\n",
        "le = LabelEncoder()\n",
        "ohc = OneHotEncoder(sparse_output=False, drop='first')\n",
        "\n",
        "for col in object_columns:\n",
        "    if data_ohc[col].nunique() > 1:\n",
        "\n",
        "        data_ohc[col] = le.fit_transform(data_ohc[col])\n",
        "\n",
        "        encoded_data = ohc.fit_transform(data_ohc[[col]])\n",
        "\n",
        "        ohc_col_names = [f\"{col}_{category}\" for category in ohc.categories_[0][1:]]\n",
        "\n",
        "        encoded_df = pd.DataFrame(encoded_data, columns=ohc_col_names, index=data_ohc.index)\n",
        "\n",
        "        data_ohc = data_ohc.drop(columns=[col])\n",
        "        data_ohc = pd.concat([data_ohc, encoded_df], axis=1)\n",
        "\n",
        "print(f\"New Dataset Shape After Encoding: {data_ohc.shape}\")\n",
        "\n",
        "print(data_ohc.head())\n"
      ]
    },
    {
      "cell_type": "code",
      "execution_count": 28,
      "metadata": {
        "ExecuteTime": {
          "end_time": "2021-09-24T17:11:51.250739Z",
          "start_time": "2021-09-24T17:11:51.236713Z"
        },
        "run_control": {
          "marked": true
        },
        "colab": {
          "base_uri": "https://localhost:8080/"
        },
        "id": "ayVeIXVzOHkD",
        "outputId": "46408381-76ba-46e8-8d8c-4d116896beaa"
      },
      "outputs": [
        {
          "output_type": "stream",
          "name": "stdout",
          "text": [
            "Original Columns: 82\n",
            "New Columns After Encoding: 82\n",
            "Total New Columns Added: 0\n"
          ]
        }
      ],
      "source": [
        "# Column difference is as calculated above\n",
        "original_columns = df.shape[1]\n",
        "\n",
        "new_columns = data_ohc.shape[1]\n",
        "\n",
        "column_difference = new_columns - original_columns\n",
        "\n",
        "print(f\"Original Columns: {original_columns}\")\n",
        "print(f\"New Columns After Encoding: {new_columns}\")\n",
        "print(f\"Total New Columns Added: {column_difference}\")\n",
        "\n"
      ]
    },
    {
      "cell_type": "code",
      "execution_count": 29,
      "metadata": {
        "ExecuteTime": {
          "end_time": "2021-09-24T17:11:51.265737Z",
          "start_time": "2021-09-24T17:11:51.252715Z"
        },
        "run_control": {
          "marked": true
        },
        "colab": {
          "base_uri": "https://localhost:8080/"
        },
        "id": "6APRZ-JtOHkD",
        "outputId": "0321130d-41ab-44b8-f458-e593addab2a3"
      },
      "outputs": [
        {
          "output_type": "stream",
          "name": "stdout",
          "text": [
            "New Dataset Shape After Removing String Columns: (0, 39)\n",
            "Empty DataFrame\n",
            "Columns: [Order, PID, MS SubClass, Lot Frontage, Lot Area, Overall Qual, Overall Cond, Year Built, Year Remod/Add, Mas Vnr Area, BsmtFin SF 1, BsmtFin SF 2, Bsmt Unf SF, Total Bsmt SF, 1st Flr SF, 2nd Flr SF, Low Qual Fin SF, Gr Liv Area, Bsmt Full Bath, Bsmt Half Bath, Full Bath, Half Bath, Bedroom AbvGr, Kitchen AbvGr, TotRms AbvGrd, Fireplaces, Garage Yr Blt, Garage Cars, Garage Area, Wood Deck SF, Open Porch SF, Enclosed Porch, 3Ssn Porch, Screen Porch, Pool Area, Misc Val, Mo Sold, Yr Sold, SalePrice]\n",
            "Index: []\n",
            "\n",
            "[0 rows x 39 columns]\n"
          ]
        }
      ],
      "source": [
        "\n",
        "# Remove the string columns from the dataframe\n",
        "data_numeric = data_ohc.select_dtypes(exclude=['object'])\n",
        "\n",
        "print(f\"New Dataset Shape After Removing String Columns: {data_numeric.shape}\")\n",
        "\n",
        "print(data_numeric.head())\n",
        "\n",
        "#print shape of data"
      ]
    },
    {
      "cell_type": "markdown",
      "metadata": {
        "run_control": {
          "marked": true
        },
        "id": "1zFd121tOHkD"
      },
      "source": [
        "## Question 4\n",
        "\n",
        "* Create train and test splits of both data sets. To ensure the data gets split the same way, use the same `random_state` in each of the two splits.\n",
        "* For each data set, fit a basic linear regression model on the training data.\n",
        "* Calculate the mean squared error on both the train and test sets for the respective models. Which model produces smaller error on the test data and why?"
      ]
    },
    {
      "cell_type": "code",
      "source": [
        "import pandas as pd\n",
        "from sklearn.model_selection import train_test_split\n",
        "from sklearn.linear_model import LinearRegression\n",
        "from sklearn.metrics import mean_squared_error\n",
        "\n",
        "df = pd.read_csv('/content/AmesHousing.csv')\n",
        "\n",
        "X = df.drop('SalePrice', axis=1)\n",
        "y = df['SalePrice']\n",
        "\n",
        "numerical_cols = X.select_dtypes(include=['float64', 'int64']).columns\n",
        "X[numerical_cols] = X[numerical_cols].fillna(X[numerical_cols].mean())\n",
        "\n",
        "categorical_cols = X.select_dtypes(include=['object']).columns\n",
        "for col in categorical_cols:\n",
        "    X[col] = X[col].fillna(X[col].mode()[0])\n",
        "\n",
        "X = pd.get_dummies(X)\n",
        "\n",
        "X_train, X_test, y_train, y_test = train_test_split(X, y, test_size=0.2, random_state=42)\n",
        "\n",
        "model = LinearRegression()\n",
        "model.fit(X_train, y_train)\n",
        "y_train_pred = model.predict(X_train)\n",
        "y_test_pred = model.predict(X_test)\n",
        "\n",
        "train_mse = mean_squared_error(y_train, y_train_pred)\n",
        "test_mse = mean_squared_error(y_test, y_test_pred)\n",
        "\n",
        "print(f\"Train MSE: {train_mse}\")\n",
        "print(f\"Test MSE: {test_mse}\")\n",
        "\n",
        "if test_mse < train_mse:\n",
        "    print(\"The model performs better on the test data.\")\n",
        "else:\n",
        "    print(\"The model performs better on the train data.\")\n"
      ],
      "metadata": {
        "colab": {
          "base_uri": "https://localhost:8080/"
        },
        "id": "8BLGU3MqYosy",
        "outputId": "6c60228e-0169-46dd-f172-3e01c2948b1f"
      },
      "execution_count": 42,
      "outputs": [
        {
          "output_type": "stream",
          "name": "stdout",
          "text": [
            "Train MSE: 1341350745.1727047\n",
            "Test MSE: 1628553042.1768866\n",
            "The model performs better on the train data.\n"
          ]
        }
      ]
    },
    {
      "cell_type": "markdown",
      "metadata": {
        "run_control": {
          "marked": true
        },
        "id": "BzW8zVEgOHkE"
      },
      "source": [
        "Note that the error values on the one-hot encoded data are very different for the train and test data. In particular, the errors on the test data are much higher. Based on the lecture, this is because the one-hot encoded model is overfitting the data. We will learn how to deal with issues like this in the next lesson."
      ]
    },
    {
      "cell_type": "markdown",
      "metadata": {
        "run_control": {
          "marked": true
        },
        "id": "q0S7BaJBOHkE"
      },
      "source": [
        "## Question 5\n",
        "\n",
        "For each of the data sets (one-hot encoded and not encoded):\n",
        "\n",
        "* Scale the all the non-hot encoded values using one of the following: `StandardScaler`, `MinMaxScaler`, `MaxAbsScaler`.\n",
        "* Compare the error calculated on the test sets\n",
        "\n",
        "Be sure to calculate the skew (to decide if a transformation should be done) and fit the scaler on *ONLY* the training data, but then apply it to both the train and test data identically."
      ]
    },
    {
      "cell_type": "code",
      "execution_count": 43,
      "metadata": {
        "ExecuteTime": {
          "end_time": "2021-09-24T17:11:51.297301Z",
          "start_time": "2021-09-24T17:11:51.282452Z"
        },
        "id": "gGstc4YeOHkE"
      },
      "outputs": [],
      "source": [
        "# Mute the setting wtih a copy warnings\n",
        "pd.options.mode.chained_assignment = None"
      ]
    },
    {
      "cell_type": "code",
      "execution_count": 44,
      "metadata": {
        "colab": {
          "base_uri": "https://localhost:8080/"
        },
        "id": "b6a6_p9SOHkE",
        "outputId": "e05bcb35-3ac9-4596-d595-079bc54aa668"
      },
      "outputs": [
        {
          "output_type": "stream",
          "name": "stdout",
          "text": [
            "Skewness of numerical features:\n",
            "Order               0.002033\n",
            "PID                 0.057310\n",
            "MS SubClass         1.364770\n",
            "Lot Frontage        1.901094\n",
            "Lot Area           13.743796\n",
            "Overall Qual        0.204464\n",
            "Overall Cond        0.595367\n",
            "Year Built         -0.594285\n",
            "Year Remod/Add     -0.428230\n",
            "Mas Vnr Area        2.507601\n",
            "BsmtFin SF 1        1.529959\n",
            "BsmtFin SF 2        4.186197\n",
            "Bsmt Unf SF         0.910381\n",
            "Total Bsmt SF       1.343551\n",
            "1st Flr SF          1.542293\n",
            "2nd Flr SF          0.875991\n",
            "Low Qual Fin SF    12.959105\n",
            "Gr Liv Area         1.303483\n",
            "Bsmt Full Bath      0.628965\n",
            "Bsmt Half Bath      4.003923\n",
            "Full Bath           0.184097\n",
            "Half Bath           0.729985\n",
            "Bedroom AbvGr       0.315893\n",
            "Kitchen AbvGr       4.493078\n",
            "TotRms AbvGrd       0.767736\n",
            "Fireplaces          0.771836\n",
            "Garage Yr Blt      -0.316639\n",
            "Garage Cars        -0.211969\n",
            "Garage Area         0.293030\n",
            "Wood Deck SF        1.564691\n",
            "Open Porch SF       2.664539\n",
            "Enclosed Porch      3.993799\n",
            "3Ssn Porch         12.140302\n",
            "Screen Porch        3.894896\n",
            "Pool Area          15.898588\n",
            "Misc Val           20.416138\n",
            "Mo Sold             0.211601\n",
            "Yr Sold             0.126187\n",
            "dtype: float64\n",
            "Train MSE: 1120172615.7258973\n",
            "Test MSE: 1528422846.6700017\n"
          ]
        }
      ],
      "source": [
        "import pandas as pd\n",
        "from sklearn.model_selection import train_test_split\n",
        "from sklearn.linear_model import LinearRegression\n",
        "from sklearn.metrics import mean_squared_error\n",
        "from sklearn.preprocessing import StandardScaler, MinMaxScaler, MaxAbsScaler\n",
        "import numpy as np\n",
        "\n",
        "\n",
        "df = pd.read_csv('/content/AmesHousing.csv')\n",
        "\n",
        "X = df.drop('SalePrice', axis=1)\n",
        "y = df['SalePrice']\n",
        "\n",
        "numerical_cols = X.select_dtypes(include=['float64', 'int64']).columns\n",
        "X[numerical_cols] = X[numerical_cols].fillna(X[numerical_cols].mean())\n",
        "\n",
        "categorical_cols = X.select_dtypes(include=['object']).columns\n",
        "for col in categorical_cols:\n",
        "    X[col] = X[col].fillna(X[col].mode()[0])\n",
        "\n",
        "X_train, X_test, y_train, y_test = train_test_split(X, y, test_size=0.2, random_state=42)\n",
        "\n",
        "skewness = X_train[numerical_cols].skew()\n",
        "print(\"Skewness of numerical features:\")\n",
        "print(skewness)\n",
        "\n",
        "for col in skewness.index:\n",
        "    if abs(skewness[col]) > 0.75:\n",
        "        X_train[col] = np.log1p(X_train[col])\n",
        "        X_test[col] = np.log1p(X_test[col])\n",
        "\n",
        "scaler = StandardScaler()\n",
        "X_train_scaled = scaler.fit_transform(X_train[numerical_cols])\n",
        "X_test_scaled = scaler.transform(X_test[numerical_cols])\n",
        "model = LinearRegression()\n",
        "model.fit(X_train_scaled, y_train)\n",
        "\n",
        "# Step 4: Predictions and calculate MSE\n",
        "y_train_pred = model.predict(X_train_scaled)\n",
        "y_test_pred = model.predict(X_test_scaled)\n",
        "\n",
        "train_mse = mean_squared_error(y_train, y_train_pred)\n",
        "test_mse = mean_squared_error(y_test, y_test_pred)\n",
        "\n",
        "print(f\"Train MSE: {train_mse}\")\n",
        "print(f\"Test MSE: {test_mse}\")\n"
      ]
    },
    {
      "cell_type": "markdown",
      "metadata": {
        "run_control": {
          "marked": true
        },
        "id": "RUp2zYLeOHkF"
      },
      "source": [
        "## Question 6\n",
        "\n",
        "Plot predictions vs actual for one of the models."
      ]
    },
    {
      "cell_type": "code",
      "execution_count": 45,
      "metadata": {
        "ExecuteTime": {
          "end_time": "2021-09-24T17:11:51.312355Z",
          "start_time": "2021-09-24T17:11:51.299241Z"
        },
        "run_control": {
          "marked": true
        },
        "colab": {
          "base_uri": "https://localhost:8080/",
          "height": 564
        },
        "id": "UcreJmPUOHkF",
        "outputId": "d73418f2-6712-4ca6-9727-ba64c39f738b"
      },
      "outputs": [
        {
          "output_type": "display_data",
          "data": {
            "text/plain": [
              "<Figure size 800x600 with 1 Axes>"
            ],
            "image/png": "[encoded data removed]"
          },
          "metadata": {}
        }
      ],
      "source": [
        "import matplotlib.pyplot as plt\n",
        "\n",
        "\n",
        "plt.figure(figsize=(8, 6))\n",
        "plt.scatter(y_test, y_test_pred, color='blue', alpha=0.6, label='Predictions')\n",
        "plt.plot([y_test.min(), y_test.max()], [y_test.min(), y_test.max()], color='red', linestyle='--', label='Perfect Prediction')\n",
        "plt.xlabel('Actual Values')\n",
        "plt.ylabel('Predicted Values')\n",
        "plt.title('Predictions vs Actual Values')\n",
        "plt.legend()\n",
        "plt.show()\n",
        "\n",
        "\n"
      ]
    },
    {
      "cell_type": "code",
      "execution_count": null,
      "metadata": {
        "id": "al_GvVIsOHkF"
      },
      "outputs": [],
      "source": []
    }
  ],
  "metadata": {
    "anaconda-cloud": {},
    "kernelspec": {
      "display_name": "Python 3 (Intel® oneAPI 2022.3)",
      "language": "python",
      "name": "c009-intel_distribution_of_python_3_oneapi-beta05-python"
    },
    "language_info": {
      "codemirror_mode": {
        "name": "ipython",
        "version": 3
      },
      "file_extension": ".py",
      "mimetype": "text/x-python",
      "name": "python",
      "nbconvert_exporter": "python",
      "pygments_lexer": "ipython3",
      "version": "3.9.12"
    },
    "name": "Train_Test_Splits_Regularization_Exercises-ANSWERS",
    "notebookId": 2125319687183944,
    "colab": {
      "provenance": []
    }
  },
  "nbformat": 4,
  "nbformat_minor": 0
}