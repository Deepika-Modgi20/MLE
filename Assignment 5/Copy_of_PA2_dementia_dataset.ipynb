{
  "cells": [
    {
      "cell_type": "markdown",
      "metadata": {
        "id": "8l5JIHknZnEI"
      },
      "source": [
        "Classify if Demented, Nondemented"
      ]
    },
    {
      "cell_type": "code",
      "execution_count": null,
      "metadata": {
        "id": "Gxrjty74oSAl"
      },
      "outputs": [],
      "source": [
        "#set up a ColumnTransformer with StandardScaler for numerical features and OneHotEncoder for categorical features.\n",
        "#set up and training a LinearRegression model using scikit-learn, including data preprocessing steps within a Pipeline.\n",
        "#implement polynomial regression\n",
        "#perform hyperparameter tuning for a polynomial regression model\n",
        "#evaluate the performance of a regression model on test data\n",
        "#use OneHotEncoder with handle_unknown='ignore' within a preprocessing pipeline to handle unseen categories during model training and evaluation\n",
        "#set up and execute cross_val_score or GridSearchCV to perform cross-validation"
      ]
    },
    {
      "cell_type": "code",
      "execution_count": 5,
      "metadata": {
        "colab": {
          "base_uri": "https://localhost:8080/"
        },
        "id": "NfzAeQZVwSZq",
        "outputId": "3b919e67-1c82-4898-9c00-89394e4e71e1"
      },
      "outputs": [
        {
          "name": "stdout",
          "output_type": "stream",
          "text": [
            "Best params: {'classifier__C': 1, 'poly__degree': 1}\n",
            "Best score (cross-val): 0.9925509779442363\n",
            "Accuracy on test set: 1.0\n",
            "\n",
            "Classification Report:\n",
            "               precision    recall  f1-score   support\n",
            "\n",
            "           0       1.00      1.00      1.00        38\n",
            "           1       1.00      1.00      1.00        30\n",
            "\n",
            "    accuracy                           1.00        68\n",
            "   macro avg       1.00      1.00      1.00        68\n",
            "weighted avg       1.00      1.00      1.00        68\n",
            "\n",
            "Cross-validated scores: [0.97058824 1.         1.         1.         1.        ]\n",
            "Mean CV accuracy: 0.9941176470588236\n"
          ]
        }
      ],
      "source": [
        "import pandas as pd\n",
        "import numpy as np\n",
        "from sklearn.model_selection import train_test_split, GridSearchCV, cross_val_score\n",
        "from sklearn.pipeline import Pipeline\n",
        "from sklearn.compose import ColumnTransformer\n",
        "from sklearn.preprocessing import StandardScaler, OneHotEncoder, PolynomialFeatures\n",
        "from sklearn.impute import SimpleImputer\n",
        "from sklearn.linear_model import LogisticRegression\n",
        "from sklearn.metrics import classification_report, accuracy_score\n",
        "\n",
        "data = pd.read_csv('/content/dementia.csv')\n",
        "\n",
        "data = data[data['Group'].isin(['Demented', 'Nondemented'])]\n",
        "data['Group'] = data['Group'].map({'Nondemented': 0, 'Demented': 1})\n",
        "data = data.drop(columns=['Subject ID', 'MRI ID'])\n",
        "X = data.drop('Group', axis=1)\n",
        "y = data['Group']\n",
        "\n",
        "\n",
        "X_train, X_test, y_train, y_test = train_test_split(X, y, test_size=0.2, random_state=42)\n",
        "\n",
        "numerical_features = X.select_dtypes(include=['int64', 'float64']).columns.tolist()\n",
        "categorical_features = X.select_dtypes(include=['object']).columns.tolist()\n",
        "\n",
        "numeric_transformer = Pipeline([\n",
        "    ('imputer', SimpleImputer(strategy='mean')),\n",
        "    ('scaler', StandardScaler())\n",
        "])\n",
        "\n",
        "categorical_transformer = Pipeline([\n",
        "    ('imputer', SimpleImputer(strategy='most_frequent')),\n",
        "    ('onehot', OneHotEncoder(handle_unknown='ignore'))\n",
        "])\n",
        "\n",
        "preprocessor = ColumnTransformer([\n",
        "    ('num', numeric_transformer, numerical_features),\n",
        "    ('cat', categorical_transformer, categorical_features)\n",
        "])\n",
        "\n",
        "pipeline = Pipeline([\n",
        "    ('preprocessor', preprocessor),\n",
        "    ('poly', PolynomialFeatures(include_bias=False)),\n",
        "    ('classifier', LogisticRegression(max_iter=1000))\n",
        "])\n",
        "\n",
        "param_grid = {\n",
        "    'poly__degree': [1, 2, 3],\n",
        "    'classifier__C': [0.01, 0.1, 1, 10]\n",
        "}\n",
        "\n",
        "grid_search = GridSearchCV(pipeline, param_grid, cv=3, scoring='accuracy')\n",
        "grid_search.fit(X_train, y_train)\n",
        "\n",
        "print(\"Best params:\", grid_search.best_params_)\n",
        "print(\"Best score (cross-val):\", grid_search.best_score_)\n",
        "\n",
        "y_pred = grid_search.predict(X_test)\n",
        "print(\"Accuracy on test set:\", accuracy_score(y_test, y_pred))\n",
        "print(\"\\nClassification Report:\\n\", classification_report(y_test, y_pred))\n",
        "\n",
        "scores = cross_val_score(grid_search.best_estimator_, X, y, cv=5, scoring='accuracy')\n",
        "print(\"Cross-validated scores:\", scores)\n",
        "print(\"Mean CV accuracy:\", scores.mean())\n"
      ]
    },
    {
      "cell_type": "code",
      "execution_count": null,
      "metadata": {
        "id": "eZ5sJ7nw8yJ5"
      },
      "outputs": [],
      "source": []
    },
    {
      "cell_type": "code",
      "execution_count": null,
      "metadata": {
        "id": "u1zknE1a3rnk"
      },
      "outputs": [],
      "source": [
        "\n"
      ]
    },
    {
      "cell_type": "code",
      "execution_count": null,
      "metadata": {
        "id": "WJ66eKWt31A8"
      },
      "outputs": [],
      "source": []
    },
    {
      "cell_type": "code",
      "execution_count": null,
      "metadata": {
        "id": "z-KNKPtB6scR"
      },
      "outputs": [],
      "source": [
        "\n",
        "\n",
        "\n"
      ]
    },
    {
      "cell_type": "code",
      "execution_count": null,
      "metadata": {
        "id": "RneJiWHD89Ho"
      },
      "outputs": [],
      "source": [
        "\n"
      ]
    },
    {
      "cell_type": "code",
      "execution_count": null,
      "metadata": {
        "id": "cTysq37D-9Lk"
      },
      "outputs": [],
      "source": [
        "\n",
        "\n"
      ]
    },
    {
      "cell_type": "markdown",
      "metadata": {
        "id": "8pXKe9uLZekN"
      },
      "source": []
    }
  ],
  "metadata": {
    "colab": {
      "provenance": []
    },
    "kernelspec": {
      "display_name": "Python 3",
      "name": "python3"
    },
    "language_info": {
      "name": "python"
    }
  },
  "nbformat": 4,
  "nbformat_minor": 0
}
